{
 "cells": [
  {
   "cell_type": "markdown",
   "id": "d26e3580-f81d-4e95-9486-70cff10cc9ff",
   "metadata": {},
   "source": [
    "# Data Science Tools and Ecosystem"
   ]
  },
  {
   "attachments": {},
   "cell_type": "markdown",
   "id": "2e8689b2-30b6-477d-afdf-7963bde5c364",
   "metadata": {},
   "source": [
    "# In this notebook, Data Science Tools and Ecosystem are summarized"
   ]
  },
  {
   "cell_type": "markdown",
   "id": "57c99842-ac09-4655-8026-bebaec240395",
   "metadata": {},
   "source": [
    "# **objectives:**\n",
    "* list of popular languages of Data Scientists\n",
    "* list of libraries in data science\n",
    "* table of open source tools used in data science\n",
    "* examples of evaluating arithmetic expressions in Python"
   ]
  },
  {
   "attachments": {},
   "cell_type": "markdown",
   "id": "20431a24-0b76-42fb-87de-eca1f6400b29",
   "metadata": {},
   "source": [
    "## Some of the popular languages that Data Scientists use are:\n",
    "1. Python\n",
    "2. SQL\n",
    "3. R\n",
    "4. Java\n",
    "5. Scala"
   ]
  },
  {
   "cell_type": "markdown",
   "id": "7cf69ad2-f1f6-4585-aeff-cc655fadc97f",
   "metadata": {},
   "source": [
    "## commonly used libraries in data science: \n",
    "1. TensorFlow\r",
    "2. NumPy\n",
    "3. \n",
    "SciP\n",
    "4. \r\n",
    "Paas\n",
    "5. rn\r\n",
    "PyTorch"
   ]
  },
  {
   "cell_type": "markdown",
   "id": "80b31119-f404-4d3a-af3e-f21549a238bc",
   "metadata": {},
   "source": [
    "## open source tools used in data science\n",
    "| Data Science Tools | \n",
    "| -------------| \n",
    "| RStudio | \n",
    "| Apache Spark | \n",
    "| TensorFlow | "
   ]
  },
  {
   "cell_type": "markdown",
   "id": "9f962027-116a-447e-a2fc-37a900e4ae26",
   "metadata": {},
   "source": [
    "### Below are a few examples of evaluating arithmetic expressions in Python"
   ]
  },
  {
   "cell_type": "code",
   "execution_count": 2,
   "id": "b5c2e65f-3d92-46cf-bf7d-6aa9ee6fa686",
   "metadata": {},
   "outputs": [
    {
     "data": {
      "text/plain": [
       "17"
      ]
     },
     "execution_count": 2,
     "metadata": {},
     "output_type": "execute_result"
    }
   ],
   "source": [
    "# This a simple arithmetic expression to mutiply then add integers\n",
    "(3*4)+5"
   ]
  },
  {
   "cell_type": "code",
   "execution_count": 4,
   "id": "ab1559c4-0706-4380-9189-56c697d22c4e",
   "metadata": {},
   "outputs": [
    {
     "data": {
      "text/plain": [
       "3.3333333333333335"
      ]
     },
     "execution_count": 4,
     "metadata": {},
     "output_type": "execute_result"
    }
   ],
   "source": [
    "#  This will convert 200 minutes to hours by diving by 60\n",
    "200/60"
   ]
  },
  {
   "cell_type": "markdown",
   "id": "c5349d79-b225-4ee6-bfd9-4fa9e8847d7c",
   "metadata": {},
   "source": [
    "## Author\n",
    "Inna Rozenberg"
   ]
  },
  {
   "cell_type": "code",
   "execution_count": null,
   "id": "e282bbe5-27f1-4661-8f2b-17fa62a56986",
   "metadata": {},
   "outputs": [],
   "source": []
  }
 ],
 "metadata": {
  "kernelspec": {
   "display_name": "Python 3 (ipykernel)",
   "language": "python",
   "name": "python3"
  },
  "language_info": {
   "codemirror_mode": {
    "name": "ipython",
    "version": 3
   },
   "file_extension": ".py",
   "mimetype": "text/x-python",
   "name": "python",
   "nbconvert_exporter": "python",
   "pygments_lexer": "ipython3",
   "version": "3.11.7"
  }
 },
 "nbformat": 4,
 "nbformat_minor": 5
}
